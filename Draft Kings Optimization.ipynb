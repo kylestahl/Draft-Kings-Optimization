{
 "cells": [
  {
   "cell_type": "markdown",
   "metadata": {},
   "source": [
    "# Draft Kings Player Optimization\n",
    "## A breif introdution to Linear Programming with Python\n",
    "#### Kyle Stahl\n",
    "#### January 2018"
   ]
  },
  {
   "cell_type": "markdown",
   "metadata": {},
   "source": [
    "### Introduction"
   ]
  },
  {
   "cell_type": "markdown",
   "metadata": {},
   "source": [
    "This analysis will use the PuLP python package for Linear Programming to find the draft kings team of Week 17 of the 2017 NFL season that has the maximum amount of average points that stays within the cost limits. I have downloaded the data for Week 17 of the 2017 NFL season draft kings contest onto my local machine downloads folder. The file is called _DKSalaries.csv_. Here we change the working directory to be where the file is."
   ]
  },
  {
   "cell_type": "code",
   "execution_count": 1,
   "metadata": {
    "collapsed": true
   },
   "outputs": [],
   "source": [
    "import os\n",
    "os.chdir(\"C:\\\\Users\\\\kyles\\\\Downloads\") # windows"
   ]
  },
  {
   "cell_type": "markdown",
   "metadata": {},
   "source": [
    "### Import Required Packages"
   ]
  },
  {
   "cell_type": "markdown",
   "metadata": {},
   "source": [
    "*__Note:__ You are going to have to install the python package PuLP for this analysis. This can get somewhat complicated but here are some helpful links to documentation and helpful stack overflow answers. *    \n",
    "https://pythonhosted.org/PuLP/main/installing_pulp_at_home.html       \n",
    "https://pypi.python.org/pypi/PuLP      \n",
    "https://stackoverflow.com/questions/39299726/cant-find-package-on-anaconda-navigator-what-to-do-next       \n",
    "https://stackoverflow.com/questions/45156080/installing-modules-to-anaconda-from-tar-gz       \n",
    "https://anaconda.org/primer/pulp         "
   ]
  },
  {
   "cell_type": "code",
   "execution_count": 2,
   "metadata": {
    "collapsed": true
   },
   "outputs": [],
   "source": [
    "from pulp import *\n",
    "import numpy as np\n",
    "import pandas as pd"
   ]
  },
  {
   "cell_type": "markdown",
   "metadata": {},
   "source": [
    "### Read in the data"
   ]
  },
  {
   "cell_type": "markdown",
   "metadata": {},
   "source": [
    "Here we read the data into a pandas dataframe. If you are not familiar with pandas data frames you can check out the official documentation 10 min introduction here: https://pandas.pydata.org/pandas-docs/stable/10min.html. In Draft Kings, there is a constraint to how many players at each position you can have on your team, so we need a method to represent this in our optimization model. Here we do this by adding binary variables for each position QB, RB, WR, TE, or DST. A _1_ for that variable would represent that the player can be drafted at that position, and a _0_ otherwise. A player can only be drafted for one position type. Also the `Salary` variable is converted from an integer to a float for consistency."
   ]
  },
  {
   "cell_type": "code",
   "execution_count": 3,
   "metadata": {
    "collapsed": true
   },
   "outputs": [],
   "source": [
    "players = pd.read_csv(\"DKSalaries.csv\")"
   ]
  },
  {
   "cell_type": "code",
   "execution_count": 4,
   "metadata": {
    "collapsed": true
   },
   "outputs": [],
   "source": [
    "players[\"RB\"] = (players[\"Position\"] == 'RB').astype(float)\n",
    "players[\"WR\"] = (players[\"Position\"] == 'WR').astype(float)\n",
    "players[\"QB\"] = (players[\"Position\"] == 'QB').astype(float)\n",
    "players[\"TE\"] = (players[\"Position\"] == 'TE').astype(float)\n",
    "players[\"DST\"] = (players[\"Position\"] == 'DST').astype(float)\n",
    "players[\"Salary\"] = players[\"Salary\"].astype(float)"
   ]
  },
  {
   "cell_type": "code",
   "execution_count": 5,
   "metadata": {},
   "outputs": [
    {
     "data": {
      "text/html": [
       "<div>\n",
       "<style>\n",
       "    .dataframe thead tr:only-child th {\n",
       "        text-align: right;\n",
       "    }\n",
       "\n",
       "    .dataframe thead th {\n",
       "        text-align: left;\n",
       "    }\n",
       "\n",
       "    .dataframe tbody tr th {\n",
       "        vertical-align: top;\n",
       "    }\n",
       "</style>\n",
       "<table border=\"1\" class=\"dataframe\">\n",
       "  <thead>\n",
       "    <tr style=\"text-align: right;\">\n",
       "      <th></th>\n",
       "      <th>Position</th>\n",
       "      <th>Name</th>\n",
       "      <th>Salary</th>\n",
       "      <th>GameInfo</th>\n",
       "      <th>AvgPointsPerGame</th>\n",
       "      <th>teamAbbrev</th>\n",
       "      <th>RB</th>\n",
       "      <th>WR</th>\n",
       "      <th>QB</th>\n",
       "      <th>TE</th>\n",
       "      <th>DST</th>\n",
       "    </tr>\n",
       "  </thead>\n",
       "  <tbody>\n",
       "    <tr>\n",
       "      <th>0</th>\n",
       "      <td>RB</td>\n",
       "      <td>Le'Veon Bell</td>\n",
       "      <td>10000.0</td>\n",
       "      <td>CLE@PIT 12/31/2017 01:00PM ET</td>\n",
       "      <td>23.907</td>\n",
       "      <td>PIT</td>\n",
       "      <td>1.0</td>\n",
       "      <td>0.0</td>\n",
       "      <td>0.0</td>\n",
       "      <td>0.0</td>\n",
       "      <td>0.0</td>\n",
       "    </tr>\n",
       "    <tr>\n",
       "      <th>1</th>\n",
       "      <td>RB</td>\n",
       "      <td>Todd Gurley II</td>\n",
       "      <td>9800.0</td>\n",
       "      <td>SF@LAR 12/31/2017 04:25PM ET</td>\n",
       "      <td>27.087</td>\n",
       "      <td>LAR</td>\n",
       "      <td>1.0</td>\n",
       "      <td>0.0</td>\n",
       "      <td>0.0</td>\n",
       "      <td>0.0</td>\n",
       "      <td>0.0</td>\n",
       "    </tr>\n",
       "    <tr>\n",
       "      <th>2</th>\n",
       "      <td>WR</td>\n",
       "      <td>Antonio Brown</td>\n",
       "      <td>8900.0</td>\n",
       "      <td>CLE@PIT 12/31/2017 01:00PM ET</td>\n",
       "      <td>23.879</td>\n",
       "      <td>PIT</td>\n",
       "      <td>0.0</td>\n",
       "      <td>1.0</td>\n",
       "      <td>0.0</td>\n",
       "      <td>0.0</td>\n",
       "      <td>0.0</td>\n",
       "    </tr>\n",
       "    <tr>\n",
       "      <th>3</th>\n",
       "      <td>RB</td>\n",
       "      <td>Ezekiel Elliott</td>\n",
       "      <td>8700.0</td>\n",
       "      <td>DAL@PHI 12/31/2017 01:00PM ET</td>\n",
       "      <td>22.122</td>\n",
       "      <td>DAL</td>\n",
       "      <td>1.0</td>\n",
       "      <td>0.0</td>\n",
       "      <td>0.0</td>\n",
       "      <td>0.0</td>\n",
       "      <td>0.0</td>\n",
       "    </tr>\n",
       "    <tr>\n",
       "      <th>4</th>\n",
       "      <td>WR</td>\n",
       "      <td>DeAndre Hopkins</td>\n",
       "      <td>8400.0</td>\n",
       "      <td>HOU@IND 12/31/2017 01:00PM ET</td>\n",
       "      <td>21.720</td>\n",
       "      <td>HOU</td>\n",
       "      <td>0.0</td>\n",
       "      <td>1.0</td>\n",
       "      <td>0.0</td>\n",
       "      <td>0.0</td>\n",
       "      <td>0.0</td>\n",
       "    </tr>\n",
       "    <tr>\n",
       "      <th>5</th>\n",
       "      <td>WR</td>\n",
       "      <td>Julio Jones</td>\n",
       "      <td>8200.0</td>\n",
       "      <td>CAR@ATL 12/31/2017 04:25PM ET</td>\n",
       "      <td>16.206</td>\n",
       "      <td>ATL</td>\n",
       "      <td>0.0</td>\n",
       "      <td>1.0</td>\n",
       "      <td>0.0</td>\n",
       "      <td>0.0</td>\n",
       "      <td>0.0</td>\n",
       "    </tr>\n",
       "    <tr>\n",
       "      <th>6</th>\n",
       "      <td>RB</td>\n",
       "      <td>LeSean McCoy</td>\n",
       "      <td>8000.0</td>\n",
       "      <td>BUF@MIA 12/31/2017 04:25PM ET</td>\n",
       "      <td>18.093</td>\n",
       "      <td>BUF</td>\n",
       "      <td>1.0</td>\n",
       "      <td>0.0</td>\n",
       "      <td>0.0</td>\n",
       "      <td>0.0</td>\n",
       "      <td>0.0</td>\n",
       "    </tr>\n",
       "    <tr>\n",
       "      <th>7</th>\n",
       "      <td>RB</td>\n",
       "      <td>Alvin Kamara</td>\n",
       "      <td>7900.0</td>\n",
       "      <td>NO@TB 12/31/2017 04:25PM ET</td>\n",
       "      <td>19.840</td>\n",
       "      <td>NO</td>\n",
       "      <td>1.0</td>\n",
       "      <td>0.0</td>\n",
       "      <td>0.0</td>\n",
       "      <td>0.0</td>\n",
       "      <td>0.0</td>\n",
       "    </tr>\n",
       "    <tr>\n",
       "      <th>8</th>\n",
       "      <td>WR</td>\n",
       "      <td>Keenan Allen</td>\n",
       "      <td>7800.0</td>\n",
       "      <td>OAK@LAC 12/31/2017 04:25PM ET</td>\n",
       "      <td>17.860</td>\n",
       "      <td>LAC</td>\n",
       "      <td>0.0</td>\n",
       "      <td>1.0</td>\n",
       "      <td>0.0</td>\n",
       "      <td>0.0</td>\n",
       "      <td>0.0</td>\n",
       "    </tr>\n",
       "    <tr>\n",
       "      <th>9</th>\n",
       "      <td>WR</td>\n",
       "      <td>Michael Thomas</td>\n",
       "      <td>7700.0</td>\n",
       "      <td>NO@TB 12/31/2017 04:25PM ET</td>\n",
       "      <td>16.607</td>\n",
       "      <td>NO</td>\n",
       "      <td>0.0</td>\n",
       "      <td>1.0</td>\n",
       "      <td>0.0</td>\n",
       "      <td>0.0</td>\n",
       "      <td>0.0</td>\n",
       "    </tr>\n",
       "  </tbody>\n",
       "</table>\n",
       "</div>"
      ],
      "text/plain": [
       "  Position             Name   Salary                       GameInfo  \\\n",
       "0       RB     Le'Veon Bell  10000.0  CLE@PIT 12/31/2017 01:00PM ET   \n",
       "1       RB   Todd Gurley II   9800.0   SF@LAR 12/31/2017 04:25PM ET   \n",
       "2       WR    Antonio Brown   8900.0  CLE@PIT 12/31/2017 01:00PM ET   \n",
       "3       RB  Ezekiel Elliott   8700.0  DAL@PHI 12/31/2017 01:00PM ET   \n",
       "4       WR  DeAndre Hopkins   8400.0  HOU@IND 12/31/2017 01:00PM ET   \n",
       "5       WR      Julio Jones   8200.0  CAR@ATL 12/31/2017 04:25PM ET   \n",
       "6       RB     LeSean McCoy   8000.0  BUF@MIA 12/31/2017 04:25PM ET   \n",
       "7       RB     Alvin Kamara   7900.0    NO@TB 12/31/2017 04:25PM ET   \n",
       "8       WR     Keenan Allen   7800.0  OAK@LAC 12/31/2017 04:25PM ET   \n",
       "9       WR   Michael Thomas   7700.0    NO@TB 12/31/2017 04:25PM ET   \n",
       "\n",
       "   AvgPointsPerGame teamAbbrev   RB   WR   QB   TE  DST  \n",
       "0            23.907        PIT  1.0  0.0  0.0  0.0  0.0  \n",
       "1            27.087        LAR  1.0  0.0  0.0  0.0  0.0  \n",
       "2            23.879        PIT  0.0  1.0  0.0  0.0  0.0  \n",
       "3            22.122        DAL  1.0  0.0  0.0  0.0  0.0  \n",
       "4            21.720        HOU  0.0  1.0  0.0  0.0  0.0  \n",
       "5            16.206        ATL  0.0  1.0  0.0  0.0  0.0  \n",
       "6            18.093        BUF  1.0  0.0  0.0  0.0  0.0  \n",
       "7            19.840         NO  1.0  0.0  0.0  0.0  0.0  \n",
       "8            17.860        LAC  0.0  1.0  0.0  0.0  0.0  \n",
       "9            16.607         NO  0.0  1.0  0.0  0.0  0.0  "
      ]
     },
     "execution_count": 5,
     "metadata": {},
     "output_type": "execute_result"
    }
   ],
   "source": [
    "players.head(10)"
   ]
  },
  {
   "cell_type": "markdown",
   "metadata": {},
   "source": [
    "### Initialize Model and paramters"
   ]
  },
  {
   "cell_type": "markdown",
   "metadata": {},
   "source": [
    "Now we initialize the optimization model with `pulp.LpProblem` for a _Linear Programming_ problem. We give the problem a name, whether we are maximizing or minimizing, and store it in a python variable. Then we need to create dictionaries for each one of our parameters: `points`, `cost`, `QB`, `RB`, `WR`, `TE`, and `DST`. There is an additional dictionary to create the constriant for the total number of players constraint that will be described below."
   ]
  },
  {
   "cell_type": "code",
   "execution_count": 6,
   "metadata": {
    "collapsed": true
   },
   "outputs": [],
   "source": [
    "model = pulp.LpProblem(\"Draft Kings\", pulp.LpMaximize)"
   ]
  },
  {
   "cell_type": "code",
   "execution_count": 7,
   "metadata": {
    "collapsed": true
   },
   "outputs": [],
   "source": [
    "total_points = {}\n",
    "cost = {}\n",
    "QBs = {}\n",
    "RBs = {}\n",
    "WRs = {}\n",
    "TEs = {}\n",
    "DST = {}\n",
    "number_of_players = {}"
   ]
  },
  {
   "cell_type": "markdown",
   "metadata": {},
   "source": [
    "PuLP does not work directory with pandas and numpy objects, just with native python (hense the empty dictionaries we made above). Now we need to loop through the data frame and create an individual variable for each player that will take on binary values 1 = we draft the player, 0 = we do not draft the player."
   ]
  },
  {
   "cell_type": "markdown",
   "metadata": {},
   "source": [
    "This is done by looping through the rows of the data frame with the `iterrows()` method. The name of each variable will be an `x` followed by the index of the row that player is in *(example: x23, x457)*. Then we create a PuLP variable object with pulp.LpVariable(); we give it the variable name and specify that it is a binary variable. Other variable options are `Continuous` (default) and `Integer`. "
   ]
  },
  {
   "cell_type": "markdown",
   "metadata": {},
   "source": [
    "Then we fill the dictionaries that we created above. The keys of each dictionary are the 569 binary variables for each player. the values of the dictionaries are the players corresponding values for each variable (Avg PPG, Salary, etc). The values for the `number_of_players` dictionary are all one; this is so we can create a constriant that sums over all of these _1s_ and make sure the optimization problem does not select more than 9 players."
   ]
  },
  {
   "cell_type": "code",
   "execution_count": 8,
   "metadata": {
    "collapsed": true
   },
   "outputs": [],
   "source": [
    "# i = row index, player = player attributes\n",
    "for i, player in players.iterrows():\n",
    "    var_name = 'x' + str(i) # Create variable name\n",
    "    decision_var = pulp.LpVariable(var_name, cat='Binary') # Initialize Variables\n",
    "\n",
    "    total_points[decision_var] = player[\"AvgPointsPerGame\"] # Create PPG Dictionary\n",
    "    cost[decision_var] = player[\"Salary\"] # Create Cost Dictionary\n",
    "    \n",
    "    # Create Dictionary for Player Types\n",
    "    QBs[decision_var] = player[\"QB\"]\n",
    "    RBs[decision_var] = player[\"RB\"]\n",
    "    WRs[decision_var] = player[\"WR\"]\n",
    "    TEs[decision_var] = player[\"TE\"]\n",
    "    DST[decision_var] = player[\"DST\"]\n",
    "    number_of_players[decision_var] = 1.0"
   ]
  },
  {
   "cell_type": "markdown",
   "metadata": {},
   "source": [
    "Next we will use `LpAffineExpressions` to create our optimization objective and constraints. The documentation for the AffineExpressions can be found at this link: https://pythonhosted.org/PuLP/pulp.html#pulp.LpConstraint. Essentially this will create a pulp object that multiplys a variable (the keys of our dictionary) by a parameter value (the values of our dictionaries), and then takes the sum of all the results:\n"
   ]
  },
  {
   "cell_type": "markdown",
   "metadata": {},
   "source": [
    "$$LpAffineExpression(\\{x_1:a_1, x_2:a_2,...., x_I:a_I\\} ) = \\sum_{i}^{} x_ia_i$$"
   ]
  },
  {
   "cell_type": "markdown",
   "metadata": {},
   "source": [
    "__NOTE: IF the above and below expressions do not show up as bold and centered equations refresh the page and they should. This is due to some squarespace bug.__"
   ]
  },
  {
   "cell_type": "markdown",
   "metadata": {},
   "source": [
    "This is a powerful tool to define linear objective functions and linear constraints. The next step is to create these affine expressions and add them to our defined `model`. This is done with the python `+=` operator. We our trying to create the optimization problem represented by:"
   ]
  },
  {
   "cell_type": "markdown",
   "metadata": {},
   "source": [
    "- $I$ = _{Set of 569 players available to draft}_     \n",
    "- $x_{i}$ - Binary decision variable: 1 = player _i_ is drafted, 0 = player _i_ *NOT* drafted      \n",
    "- $PPG_{i}$ - Average points per game of player _i_      \n",
    "- $C_{i}$ - Cost to draft player _i_     \n",
    "- $QB_{i}$ - Binary parameter: 1 = player _i_ is a QB, 0 = player _i_ is _NOT_ a QB      \n",
    "- $RB_{i}$ - Binary parameter: 1 = player _i_ is a RB, 0 = player _i_ is _NOT_ a RB      \n",
    "- $WR_{i}$ - Binary parameter: 1 = player _i_ is a WR, 0 = player _i_ is _NOT_ a WR      \n",
    "- $TE_{i}$ - Binary parameter: 1 = player _i_ is a TE, 0 = player _i_ is _NOT_ a TE      \n",
    "- $DST_{i}$ - Binary parameter: 1 = player _i_ is a DST, 0 = player _i_ is _NOT_ a DST     "
   ]
  },
  {
   "cell_type": "markdown",
   "metadata": {},
   "source": [
    "\\begin{align}\n",
    "maximize\\ \\sum_{i}^{} PPG_i x_i \\qquad \\qquad \\\\\n",
    "subject\\ to:\\quad \\qquad \\qquad \\qquad \\qquad \\qquad \\\\ \\\\\n",
    "\\sum_{i}^{} C_i x_i \\le 50K \\qquad \\quad\n",
    "\\sum_{i}^{} QB_i x_i \\le 1 \\\\\n",
    "\\sum_{i}^{} RB_i x_i \\le 3 \\qquad \\quad\n",
    "\\sum_{i}^{} WR_i x_i \\le 4 \\\\\n",
    "\\sum_{i}^{} TE_i x_i \\le 2 \\qquad \\quad\n",
    "\\sum_{i}^{} DST_i x_i \\le 1 \\\\\n",
    "\\sum_{i}^{} x_i \\le 9 \\qquad \\qquad \\qquad\n",
    "x_i \\in \\{0,1\\}\n",
    "\\end{align}"
   ]
  },
  {
   "cell_type": "markdown",
   "metadata": {},
   "source": [
    "The way the teams are drafted there needs to be exactly 1 QB and DST. While there needs to be at least 2 RB's, 3 WR's, and 1 TE; and then there is a flex position that can be any of those three. This totals up to 9 total players. Since this is a maximization problem the strict equality constraints can be relaxed to less than or equal to constraints. The optimization algorithm will try to choose as many players as it can (within the 50,000 cost constraint)."
   ]
  },
  {
   "cell_type": "code",
   "execution_count": 9,
   "metadata": {
    "collapsed": true
   },
   "outputs": [],
   "source": [
    "# Define ojective function and add it to the model\n",
    "objective_function = pulp.LpAffineExpression(total_points)\n",
    "model += objective_function\n",
    "\n",
    "#Define cost constraint and add it to the model\n",
    "total_cost = pulp.LpAffineExpression(cost)\n",
    "model += (total_cost <= 50000)"
   ]
  },
  {
   "cell_type": "code",
   "execution_count": 10,
   "metadata": {
    "collapsed": true
   },
   "outputs": [],
   "source": [
    "# Add player type constraints\n",
    "QB_constraint = pulp.LpAffineExpression(QBs)\n",
    "RB_constraint = pulp.LpAffineExpression(RBs)\n",
    "WR_constraint = pulp.LpAffineExpression(WRs)\n",
    "TE_constraint = pulp.LpAffineExpression(TEs)\n",
    "DST_constraint = pulp.LpAffineExpression(DST)\n",
    "total_players = pulp.LpAffineExpression(number_of_players)\n",
    "\n",
    "model += (QB_constraint <= 1)\n",
    "model += (RB_constraint <= 3)\n",
    "model += (WR_constraint <= 4)\n",
    "model += (TE_constraint <= 2)\n",
    "model += (DST_constraint <= 1)\n",
    "model += (total_players <= 9)"
   ]
  },
  {
   "cell_type": "markdown",
   "metadata": {},
   "source": [
    "### Solve the optimization problem"
   ]
  },
  {
   "cell_type": "markdown",
   "metadata": {},
   "source": [
    "PuLP comes with it's own solver, or a variety of different propietary solvers can be integrated. The current status of model is 0, once the model is solved the status of the model will change to 1. If the linear program (LP) is infeasible, the status will change to -1. If the LP is unbounded, the status will be -2; and for undefined the status is -3. A more deatiled explanation can be found in the pulp documentation: https://pythonhosted.org/PuLP/constants.html#pulp.constants.LpStatus. Below is a list of all the possible solvers compatible with PuLP:"
   ]
  },
  {
   "cell_type": "code",
   "execution_count": 11,
   "metadata": {},
   "outputs": [
    {
     "name": "stdout",
     "output_type": "stream",
     "text": [
      "\t Testing zero subtraction\n",
      "\t Testing inconsistant lp solution\n",
      "\t Testing continuous LP solution\n",
      "\t Testing maximize continuous LP solution\n",
      "\t Testing unbounded continuous LP solution\n",
      "\t Testing Long Names\n",
      "\t Testing repeated Names\n",
      "\t Testing zero constraint\n",
      "\t Testing zero objective\n",
      "\t Testing LpVariable (not LpAffineExpression) objective\n",
      "\t Testing Long lines in LP\n",
      "\t Testing LpAffineExpression divide\n",
      "\t Testing MIP solution\n",
      "\t Testing MIP solution with floats in objective\n",
      "\t Testing MIP relaxation\n",
      "\t Testing feasibility problem (no objective)\n",
      "\t Testing an infeasible problem\n",
      "\t Testing an integer infeasible problem\n",
      "\t Testing column based modelling\n",
      "\t Testing dual variables and slacks reporting\n",
      "\t Testing fractional constraints\n",
      "\t Testing elastic constraints (no change)\n",
      "\t Testing elastic constraints (freebound)\n",
      "\t Testing elastic constraints (penalty unchanged)\n",
      "\t Testing elastic constraints (penalty unbounded)\n",
      "* Solver pulp.solvers.PULP_CBC_CMD passed.\n",
      "Solver pulp.solvers.CPLEX_DLL unavailable\n",
      "Solver pulp.solvers.CPLEX_CMD unavailable\n",
      "Solver pulp.solvers.CPLEX_PY unavailable\n",
      "Solver pulp.solvers.COIN_CMD unavailable\n",
      "Solver pulp.solvers.COINMP_DLL unavailable\n",
      "Solver pulp.solvers.GLPK_CMD unavailable\n",
      "Solver pulp.solvers.XPRESS unavailable\n",
      "Solver pulp.solvers.GUROBI unavailable\n",
      "Solver pulp.solvers.GUROBI_CMD unavailable\n",
      "Solver pulp.solvers.PYGLPK unavailable\n",
      "Solver pulp.solvers.YAPOSIB unavailable\n"
     ]
    }
   ],
   "source": [
    "# All of the possible PuLP solvers\n",
    "pulp.pulpTestAll()"
   ]
  },
  {
   "cell_type": "code",
   "execution_count": 12,
   "metadata": {},
   "outputs": [
    {
     "data": {
      "text/plain": [
       "0"
      ]
     },
     "execution_count": 12,
     "metadata": {},
     "output_type": "execute_result"
    }
   ],
   "source": [
    "model.status"
   ]
  },
  {
   "cell_type": "code",
   "execution_count": 13,
   "metadata": {},
   "outputs": [
    {
     "data": {
      "text/plain": [
       "1"
      ]
     },
     "execution_count": 13,
     "metadata": {},
     "output_type": "execute_result"
    }
   ],
   "source": [
    "model.solve()"
   ]
  },
  {
   "cell_type": "markdown",
   "metadata": {},
   "source": [
    "#### Check the results"
   ]
  },
  {
   "cell_type": "markdown",
   "metadata": {},
   "source": [
    "Currently, there are 569 individual python variables which hold the results of the interger linear program. We want to visualize the results with the original data frame. Here we loop through the PuLP decision variables to add them to a `is_drafted` column in the original data frame. "
   ]
  },
  {
   "cell_type": "code",
   "execution_count": 14,
   "metadata": {
    "collapsed": true
   },
   "outputs": [],
   "source": [
    "players[\"is_drafted\"] = 0.0\n",
    "for var in model.variables():\n",
    "    # Set is drafted to the value determined by the LP\n",
    "    players.iloc[int(var.name[1:]),11] = var.varValue # column 11 = is_drafted"
   ]
  },
  {
   "cell_type": "code",
   "execution_count": 15,
   "metadata": {
    "collapsed": true
   },
   "outputs": [],
   "source": [
    "my_team = players[players[\"is_drafted\"] == 1.0]\n",
    "my_team = my_team[[\"Name\",\"Position\",\"teamAbbrev\",\"Salary\",\"AvgPointsPerGame\"]]"
   ]
  },
  {
   "cell_type": "code",
   "execution_count": 16,
   "metadata": {},
   "outputs": [
    {
     "data": {
      "text/html": [
       "<div>\n",
       "<style>\n",
       "    .dataframe thead tr:only-child th {\n",
       "        text-align: right;\n",
       "    }\n",
       "\n",
       "    .dataframe thead th {\n",
       "        text-align: left;\n",
       "    }\n",
       "\n",
       "    .dataframe tbody tr th {\n",
       "        vertical-align: top;\n",
       "    }\n",
       "</style>\n",
       "<table border=\"1\" class=\"dataframe\">\n",
       "  <thead>\n",
       "    <tr style=\"text-align: right;\">\n",
       "      <th></th>\n",
       "      <th>Name</th>\n",
       "      <th>Position</th>\n",
       "      <th>teamAbbrev</th>\n",
       "      <th>Salary</th>\n",
       "      <th>AvgPointsPerGame</th>\n",
       "    </tr>\n",
       "  </thead>\n",
       "  <tbody>\n",
       "    <tr>\n",
       "      <th>1</th>\n",
       "      <td>Todd Gurley II</td>\n",
       "      <td>RB</td>\n",
       "      <td>LAR</td>\n",
       "      <td>9800.0</td>\n",
       "      <td>27.087</td>\n",
       "    </tr>\n",
       "    <tr>\n",
       "      <th>2</th>\n",
       "      <td>Antonio Brown</td>\n",
       "      <td>WR</td>\n",
       "      <td>PIT</td>\n",
       "      <td>8900.0</td>\n",
       "      <td>23.879</td>\n",
       "    </tr>\n",
       "    <tr>\n",
       "      <th>22</th>\n",
       "      <td>Russell Wilson</td>\n",
       "      <td>QB</td>\n",
       "      <td>SEA</td>\n",
       "      <td>6900.0</td>\n",
       "      <td>23.365</td>\n",
       "    </tr>\n",
       "    <tr>\n",
       "      <th>52</th>\n",
       "      <td>Tyreek Hill</td>\n",
       "      <td>WR</td>\n",
       "      <td>KC</td>\n",
       "      <td>6000.0</td>\n",
       "      <td>17.213</td>\n",
       "    </tr>\n",
       "    <tr>\n",
       "      <th>103</th>\n",
       "      <td>Carlos Hyde</td>\n",
       "      <td>RB</td>\n",
       "      <td>SF</td>\n",
       "      <td>4900.0</td>\n",
       "      <td>14.333</td>\n",
       "    </tr>\n",
       "    <tr>\n",
       "      <th>163</th>\n",
       "      <td>Will Fuller V</td>\n",
       "      <td>WR</td>\n",
       "      <td>HOU</td>\n",
       "      <td>4300.0</td>\n",
       "      <td>12.500</td>\n",
       "    </tr>\n",
       "    <tr>\n",
       "      <th>230</th>\n",
       "      <td>Jermaine Kearse</td>\n",
       "      <td>WR</td>\n",
       "      <td>NYJ</td>\n",
       "      <td>3800.0</td>\n",
       "      <td>11.407</td>\n",
       "    </tr>\n",
       "    <tr>\n",
       "      <th>467</th>\n",
       "      <td>Austin Seferian-Jenkins</td>\n",
       "      <td>TE</td>\n",
       "      <td>NYJ</td>\n",
       "      <td>2700.0</td>\n",
       "      <td>7.900</td>\n",
       "    </tr>\n",
       "    <tr>\n",
       "      <th>469</th>\n",
       "      <td>Eagles</td>\n",
       "      <td>DST</td>\n",
       "      <td>PHI</td>\n",
       "      <td>2700.0</td>\n",
       "      <td>10.667</td>\n",
       "    </tr>\n",
       "  </tbody>\n",
       "</table>\n",
       "</div>"
      ],
      "text/plain": [
       "                        Name Position teamAbbrev  Salary  AvgPointsPerGame\n",
       "1             Todd Gurley II       RB        LAR  9800.0            27.087\n",
       "2              Antonio Brown       WR        PIT  8900.0            23.879\n",
       "22            Russell Wilson       QB        SEA  6900.0            23.365\n",
       "52               Tyreek Hill       WR         KC  6000.0            17.213\n",
       "103              Carlos Hyde       RB         SF  4900.0            14.333\n",
       "163            Will Fuller V       WR        HOU  4300.0            12.500\n",
       "230          Jermaine Kearse       WR        NYJ  3800.0            11.407\n",
       "467  Austin Seferian-Jenkins       TE        NYJ  2700.0             7.900\n",
       "469                  Eagles       DST        PHI  2700.0            10.667"
      ]
     },
     "execution_count": 16,
     "metadata": {},
     "output_type": "execute_result"
    }
   ],
   "source": [
    "my_team.head(10)"
   ]
  },
  {
   "cell_type": "code",
   "execution_count": 17,
   "metadata": {},
   "outputs": [
    {
     "name": "stdout",
     "output_type": "stream",
     "text": [
      "Total used amount of salary cap: 50000.0\n",
      "Projected points for week 17: 148.4\n"
     ]
    }
   ],
   "source": [
    "print \"Total used amount of salary cap: {}\".format(my_team[\"Salary\"].sum())\n",
    "print \"Projected points for week 17: {}\".format(my_team[\"AvgPointsPerGame\"].sum().round(1))"
   ]
  },
  {
   "cell_type": "markdown",
   "metadata": {},
   "source": [
    "### Results and future analysis"
   ]
  },
  {
   "cell_type": "markdown",
   "metadata": {},
   "source": [
    "The optimal solution used up all 50,000 of the available salary, and on average this team would score approximately 148.4 points. This is not really enough to do well in a draft kings contest. This stragey may be suited more for long term fantasy football leagues. Daily fantasy depends so much on picking the players that severly over preform each week, rather than picking a team the will consistently do well on average. "
   ]
  },
  {
   "cell_type": "markdown",
   "metadata": {},
   "source": [
    "One possible future analysis would be to incorperate the probability of each player of doing abnormally well with some anomaly detection algorithms. Then instead of trying to pick the players that maximize on the average past performance, we can pick the players that have the best chance of doing abnormally well in the coming week. Another possible step for future analysis could be to scrap the data straight from the web instead of downloading it to a local computer and then importing it into pandas. "
   ]
  },
  {
   "cell_type": "markdown",
   "metadata": {},
   "source": [
    "#### _Resources:_"
   ]
  },
  {
   "cell_type": "markdown",
   "metadata": {},
   "source": [
    "Huge shoutout to Ben Alex Keen for this introduction to PuLP that can be found here: http://benalexkeen.com/linear-programming-with-python-and-pulp-part-6/    \n",
    "Also to Anna Nicanorova for this talk on Linear Programming in Python at PyData in 2015 found on YouTube here: https://www.youtube.com/watch?v=7yZ5xxdkTb8"
   ]
  },
  {
   "cell_type": "code",
   "execution_count": null,
   "metadata": {
    "collapsed": true
   },
   "outputs": [],
   "source": []
  }
 ],
 "metadata": {
  "kernelspec": {
   "display_name": "Python 2",
   "language": "python",
   "name": "python2"
  },
  "language_info": {
   "codemirror_mode": {
    "name": "ipython",
    "version": 2
   },
   "file_extension": ".py",
   "mimetype": "text/x-python",
   "name": "python",
   "nbconvert_exporter": "python",
   "pygments_lexer": "ipython2",
   "version": "2.7.13"
  }
 },
 "nbformat": 4,
 "nbformat_minor": 2
}
